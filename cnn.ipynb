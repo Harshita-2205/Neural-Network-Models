{
 "cells": [
  {
   "cell_type": "code",
   "execution_count": 3,
   "metadata": {},
   "outputs": [
    {
     "name": "stdout",
     "output_type": "stream",
     "text": [
      "Found 0 images belonging to 2 classes.\n"
     ]
    },
    {
     "name": "stdout",
     "output_type": "stream",
     "text": [
      "Found 0 images belonging to 2 classes.\n",
      "Shape of images: (0, 64, 64, 3)\n",
      "Shape of labels_batch: (0, 2)\n",
      "No images found in the batch. Check the data directory and batch size.\n"
     ]
    }
   ],
   "source": [
    "import pandas as pd\n",
    "import numpy as np\n",
    "import matplotlib.pyplot as plt\n",
    "%matplotlib inline\n",
    "\n",
    "import tensorflow as tf\n",
    "from tensorflow.keras.preprocessing.image import ImageDataGenerator\n",
    "from tensorflow.keras.utils import to_categorical\n",
    "\n",
    "from tensorflow.keras.models import Sequential\n",
    "from tensorflow.keras.layers import Dense, Conv2D, MaxPool2D, Flatten, Dropout, BatchNormalization\n",
    "from tensorflow.keras.callbacks import EarlyStopping\n",
    "from sklearn.metrics import ConfusionMatrixDisplay, classification_report, confusion_matrix\n",
    "\n",
    "# Set paths for train and test datasets\n",
    "train_folder = 'training_set'\n",
    "test_folder = 'test_set'\n",
    "\n",
    "# Define the labels of the dataset\n",
    "labels = ['cats', 'dogs']\n",
    "\n",
    "# Define the image size and batch size\n",
    "img_size = (64, 64)  # Resize images to (64, 64)\n",
    "batch_size = 32\n",
    "\n",
    "# Initialize ImageDataGenerator for loading images\n",
    "train_datagen = ImageDataGenerator(rescale=1.0/255.0)\n",
    "test_datagen = ImageDataGenerator(rescale=1.0/255.0)\n",
    "\n",
    "# Load the training and testing data\n",
    "train_generator = train_datagen.flow_from_directory(\n",
    "    train_folder,\n",
    "    target_size=img_size,\n",
    "    batch_size=batch_size,\n",
    "    class_mode='categorical',\n",
    "    classes=labels\n",
    ")\n",
    "\n",
    "test_generator = test_datagen.flow_from_directory(\n",
    "    test_folder,\n",
    "    target_size=img_size,\n",
    "    batch_size=batch_size,\n",
    "    class_mode='categorical',\n",
    "    classes=labels\n",
    ")\n",
    "\n",
    "# Let's view more images in a grid format\n",
    "# Define the dimensions of the plot grid \n",
    "W_grid = 10\n",
    "L_grid = 10\n",
    "\n",
    "# Fetch a batch of images and labels\n",
    "images, labels_batch = next(train_generator)\n",
    "\n",
    "# Debugging: print the shape of images and labels_batch to verify they are loaded correctly\n",
    "print(f\"Shape of images: {images.shape}\")  # Should print (batch_size, 64, 64, 3)\n",
    "print(f\"Shape of labels_batch: {labels_batch.shape}\")  # Should print (batch_size, num_classes)\n",
    "\n",
    "# `images` is a batch of images of shape (batch_size, img_size[0], img_size[1], channels)\n",
    "n_images = images.shape[0]  # Number of images in the batch\n",
    "\n",
    "# Check if n_images > 0\n",
    "if n_images == 0:\n",
    "    print(\"No images found in the batch. Check the data directory and batch size.\")\n",
    "else:\n",
    "    # Plot images in a grid of W_grid x L_grid\n",
    "    fig, axes = plt.subplots(L_grid, W_grid, figsize=(17, 17))\n",
    "    axes = axes.ravel()  # Flatten the 10 x 10 grid to a 100-element array\n",
    "\n",
    "    # Select random images and plot them\n",
    "    for i in np.arange(0, W_grid * L_grid):\n",
    "        # Select a random index within the current batch\n",
    "        index = np.random.randint(0, n_images)\n",
    "\n",
    "        # Display the image at the selected index\n",
    "        axes[i].imshow(images[index])\n",
    "\n",
    "        # Get the label for the selected image\n",
    "        label_index = np.argmax(labels_batch[index])\n",
    "\n",
    "        # Set the title of the image based on the label\n",
    "        axes[i].set_title(labels[label_index], fontsize=8)\n",
    "\n",
    "        # Hide the axis\n",
    "        axes[i].axis('off')\n",
    "\n",
    "    plt.subplots_adjust(hspace=0.4)\n",
    "    plt.show()\n"
   ]
  }
 ],
 "metadata": {
  "kernelspec": {
   "display_name": "base",
   "language": "python",
   "name": "python3"
  },
  "language_info": {
   "codemirror_mode": {
    "name": "ipython",
    "version": 3
   },
   "file_extension": ".py",
   "mimetype": "text/x-python",
   "name": "python",
   "nbconvert_exporter": "python",
   "pygments_lexer": "ipython3",
   "version": "3.10.14"
  }
 },
 "nbformat": 4,
 "nbformat_minor": 2
}
